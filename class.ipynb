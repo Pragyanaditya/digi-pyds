{
 "cells": [
  {
   "cell_type": "code",
   "execution_count": 1,
   "metadata": {},
   "outputs": [
    {
     "data": {
      "text/plain": [
       "4"
      ]
     },
     "execution_count": 1,
     "metadata": {},
     "output_type": "execute_result"
    }
   ],
   "source": []
  },
  {
   "cell_type": "code",
   "execution_count": 5,
   "metadata": {},
   "outputs": [],
   "source": [
    "class Student:\n",
    "    def __init__ (self,name,college,qualification):\n",
    "        self.name=name\n",
    "        self.college=college\n",
    "        self.qualification=qualification\n",
    "    \n",
    "    def __repr__ (self):\n",
    "        return self.name\n",
    "        "
   ]
  },
  {
   "cell_type": "code",
   "execution_count": 6,
   "metadata": {},
   "outputs": [],
   "source": [
    "stdobjs=[\n",
    "Student('ram','sky','bachelors'),\n",
    "Student('ram','sky','bachelors'),\n",
    "Student('ram','sky','bachelors'),\n",
    "Student('ram','sky','bachelors'),\n",
    "]"
   ]
  },
  {
   "cell_type": "code",
   "execution_count": 7,
   "metadata": {},
   "outputs": [
    {
     "data": {
      "text/plain": [
       "[ram, ram, ram, ram]"
      ]
     },
     "execution_count": 7,
     "metadata": {},
     "output_type": "execute_result"
    }
   ],
   "source": [
    "stdobjs"
   ]
  },
  {
   "cell_type": "code",
   "execution_count": 8,
   "metadata": {},
   "outputs": [],
   "source": [
    "class Da:\n",
    "    def __init__ (self,name,college,qualification):\n",
    "        self.name=name\n",
    "        self.college=college\n",
    "        self.qualification=qualification\n",
    "    \n",
    "    def __repr__ (self):\n",
    "        return self.name\n",
    "        "
   ]
  },
  {
   "cell_type": "code",
   "execution_count": 10,
   "metadata": {},
   "outputs": [],
   "source": [
    "daobjs=[\n",
    "    Da('ram','sky','bachelors'),\n",
    "    Da('ram','sky','bachelors'),\n",
    "    Da('ram','sky','bachelors'),\n",
    "]"
   ]
  },
  {
   "cell_type": "code",
   "execution_count": 11,
   "metadata": {},
   "outputs": [],
   "source": [
    "class Triangle:\n",
    "    def __init__(self,b=0,h=0):\n",
    "        self.base=b\n",
    "        self.height=h \n",
    "    def area(self):\n",
    "        return self.base*self.height/2\n",
    "    def __repr__(self):\n",
    "        return f'Triangle({self.area()})'"
   ]
  },
  {
   "cell_type": "code",
   "execution_count": 12,
   "metadata": {},
   "outputs": [
    {
     "data": {
      "text/plain": [
       "[Triangle(30.0), Triangle(27.0), Triangle(16.0), Triangle(13.5)]"
      ]
     },
     "execution_count": 12,
     "metadata": {},
     "output_type": "execute_result"
    }
   ],
   "source": [
    "data=[Triangle(12,5),Triangle(9,6),Triangle(8,4),Triangle(9,3)]\n",
    "data"
   ]
  },
  {
   "cell_type": "code",
   "execution_count": 13,
   "metadata": {},
   "outputs": [],
   "source": [
    "import os\n",
    "class Reader:\n",
    "    def __init__(self,path):\n",
    "        if not os.path.exists(path):\n",
    "            raise Exception('File dose not exist')\n",
    "        self.path=path\n",
    "        self.content=self.read()\n",
    "    \n",
    "    def read(self):\n",
    "        with open(self.path,'r') as f:\n",
    "            return f.read()\n",
    "    \n",
    "    def count_words(self):\n",
    "        return len(self.content.split())\n",
    "    \n",
    "    def count_chars(self):\n",
    "        return len(self.content)\n",
    "    \n",
    "    def __str__(self):\n",
    "        return self.content"
   ]
  },
  {
   "cell_type": "code",
   "execution_count": 15,
   "metadata": {},
   "outputs": [],
   "source": [
    "r1=Reader(r'D:\\digi pyds\\DIGI.txt')"
   ]
  },
  {
   "cell_type": "code",
   "execution_count": 16,
   "metadata": {},
   "outputs": [
    {
     "name": "stdout",
     "output_type": "stream",
     "text": [
      "DIGIPODIUM\n",
      "programing\n",
      "\tLEVEL 1\n",
      "(for ds we use notebook file extension is pynb)\n",
      "\t\tVARIABLES\n",
      "\t\tDATATYPE\n",
      "\t\tOPERATOR\t\n",
      "\t\tINPUT OUTPUT\n",
      "\tLEVEL 2\n",
      "\t\tCONDITIONS\n",
      "\t\tLOOPS\n",
      "\t\tFUNCTION\n",
      "\tLEVEL 3 (DATA STRUCTURE)\n",
      "\t\tSTRING\n",
      "\t\tLIST\n",
      "\t\tDICTONARI\n",
      "\t\tTOUPLES AND SET\n"
     ]
    }
   ],
   "source": [
    "print(r1.content)"
   ]
  },
  {
   "cell_type": "code",
   "execution_count": 1,
   "metadata": {},
   "outputs": [
    {
     "data": {
      "text/plain": [
       "4"
      ]
     },
     "execution_count": 1,
     "metadata": {},
     "output_type": "execute_result"
    }
   ],
   "source": [
    "2+2"
   ]
  },
  {
   "cell_type": "code",
   "execution_count": 4,
   "metadata": {},
   "outputs": [],
   "source": [
    "class Usear:\n",
    "    def __init__(self,name,age=21,gender='female'):\n",
    "        self.n=name\n",
    "        self.a=age\n",
    "        self.g=gender\n",
    "\n",
    "    def __repr__(self):\n",
    "        return self.n"
   ]
  },
  {
   "cell_type": "code",
   "execution_count": 3,
   "metadata": {},
   "outputs": [
    {
     "data": {
      "text/plain": [
       "raj"
      ]
     },
     "execution_count": 3,
     "metadata": {},
     "output_type": "execute_result"
    }
   ],
   "source": [
    "u1=Usear('raj',20,'m')\n",
    "u1"
   ]
  },
  {
   "cell_type": "code",
   "execution_count": 5,
   "metadata": {},
   "outputs": [],
   "source": [
    "class Student(Usear):\n",
    "    def __init__(self, name,college,Class,rollno, age=21, gender='female'):\n",
    "        super().__init__(name, age, gender)\n",
    "        self.colleg=college\n",
    "        self.Class=Class\n",
    "        self.rollno=rollno\n",
    "\n",
    "    def info(self):\n",
    "        print('student details')\n",
    "        print('name',self.n)\n",
    "        print('age',self.a)\n",
    "        print('college',self.colleg)\n",
    "        print('Class', self.Class)\n",
    "        print('rollno',self.rollno)\n",
    "        print('*x*'*10)\n",
    "\n"
   ]
  },
  {
   "cell_type": "code",
   "execution_count": 10,
   "metadata": {},
   "outputs": [],
   "source": [
    "s1=Student('raj','ddu','msc',9456462,age=24,gender='m')"
   ]
  },
  {
   "cell_type": "code",
   "execution_count": 11,
   "metadata": {},
   "outputs": [
    {
     "name": "stdout",
     "output_type": "stream",
     "text": [
      "student details\n",
      "name raj\n",
      "age 24\n",
      "college ddu\n",
      "Class msc\n",
      "rollno 9456462\n",
      "*x**x**x**x**x**x**x**x**x**x*\n"
     ]
    }
   ],
   "source": [
    "s1.info()"
   ]
  },
  {
   "cell_type": "code",
   "execution_count": 12,
   "metadata": {},
   "outputs": [],
   "source": [
    "x=[1,2,3,4,5]\n",
    "y=[10,20,30,40,50]\n"
   ]
  },
  {
   "cell_type": "code",
   "execution_count": 16,
   "metadata": {},
   "outputs": [],
   "source": [
    "class My_list(list):\n",
    "    def __mul__(self,other):\n",
    "        output=[]\n",
    "        for i,j in zip(self,other):\n",
    "            output.append(i*j)\n",
    "        return output\n",
    "    \n",
    "    def sum(self):\n",
    "        return sum(self)\n",
    "    \n",
    "    def mean(self):\n",
    "        return sum(self)/len(self)"
   ]
  },
  {
   "cell_type": "code",
   "execution_count": 20,
   "metadata": {},
   "outputs": [
    {
     "name": "stdout",
     "output_type": "stream",
     "text": [
      "[4, 10, 18]\n"
     ]
    },
    {
     "data": {
      "text/plain": [
       "5.0"
      ]
     },
     "execution_count": 20,
     "metadata": {},
     "output_type": "execute_result"
    }
   ],
   "source": [
    "x=My_list([1,2,3])\n",
    "y=My_list([4,5,6])\n",
    "print(x*y)\n",
    "My_list.sum(x)\n",
    "My_list.mean(y)"
   ]
  },
  {
   "cell_type": "code",
   "execution_count": null,
   "metadata": {},
   "outputs": [],
   "source": []
  }
 ],
 "metadata": {
  "kernelspec": {
   "display_name": "base",
   "language": "python",
   "name": "python3"
  },
  "language_info": {
   "codemirror_mode": {
    "name": "ipython",
    "version": 3
   },
   "file_extension": ".py",
   "mimetype": "text/x-python",
   "name": "python",
   "nbconvert_exporter": "python",
   "pygments_lexer": "ipython3",
   "version": "3.10.8"
  },
  "orig_nbformat": 4
 },
 "nbformat": 4,
 "nbformat_minor": 2
}
