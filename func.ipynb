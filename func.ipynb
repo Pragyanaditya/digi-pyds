{
 "cells": [
  {
   "attachments": {},
   "cell_type": "markdown",
   "metadata": {},
   "source": [
    "# defining a function\n",
    "'''\n",
    "def fun_name(<parameter>):\n",
    "    statement 1\n",
    "    statement 2\n",
    "    ...\n",
    "    statement n\n",
    "    <return values...>\n",
    "\n",
    "# calling\n",
    "funt_name()"
   ]
  },
  {
   "attachments": {},
   "cell_type": "markdown",
   "metadata": {},
   "source": [
    "non parameterized function,non returning function."
   ]
  },
  {
   "cell_type": "code",
   "execution_count": 1,
   "metadata": {},
   "outputs": [],
   "source": [
    "def greeting():\n",
    "    print('good morning')"
   ]
  },
  {
   "cell_type": "code",
   "execution_count": 2,
   "metadata": {},
   "outputs": [
    {
     "name": "stdout",
     "output_type": "stream",
     "text": [
      "good morning\n"
     ]
    }
   ],
   "source": [
    "greeting()"
   ]
  },
  {
   "cell_type": "code",
   "execution_count": 4,
   "metadata": {},
   "outputs": [
    {
     "name": "stdout",
     "output_type": "stream",
     "text": [
      "good morning\n",
      "None\n"
     ]
    }
   ],
   "source": [
    "a=greeting()\n",
    "print(a)"
   ]
  },
  {
   "attachments": {},
   "cell_type": "markdown",
   "metadata": {},
   "source": [
    "function returning value"
   ]
  },
  {
   "cell_type": "code",
   "execution_count": 22,
   "metadata": {},
   "outputs": [],
   "source": [
    "def random_5():\n",
    "    from random import choices\n",
    "    x=['🐼🐭🐼🐼🐼🐭🐼🐭🐼🐼']\n",
    "    return \" \".join(choices(x,k=5))"
   ]
  },
  {
   "cell_type": "code",
   "execution_count": 23,
   "metadata": {},
   "outputs": [
    {
     "data": {
      "text/plain": [
       "'🐼🐭🐼🐼🐼🐭🐼🐭🐼🐼 🐼🐭🐼🐼🐼🐭🐼🐭🐼🐼 🐼🐭🐼🐼🐼🐭🐼🐭🐼🐼 🐼🐭🐼🐼🐼🐭🐼🐭🐼🐼 🐼🐭🐼🐼🐼🐭🐼🐭🐼🐼'"
      ]
     },
     "execution_count": 23,
     "metadata": {},
     "output_type": "execute_result"
    }
   ],
   "source": [
    "random_5()"
   ]
  },
  {
   "cell_type": "code",
   "execution_count": 20,
   "metadata": {},
   "outputs": [
    {
     "name": "stdout",
     "output_type": "stream",
     "text": [
      "-> 🐼🐭\n",
      "-> 🐼🐭\n",
      "-> 🐼🐭\n",
      "-> 🐼🐭\n",
      "-> 🐼🐭\n"
     ]
    }
   ],
   "source": [
    "for i in range(5):\n",
    "    print(f'-> {random_5()}')"
   ]
  },
  {
   "attachments": {},
   "cell_type": "markdown",
   "metadata": {},
   "source": [
    "# parameterized function\n",
    "- takes input, dont return output."
   ]
  },
  {
   "cell_type": "code",
   "execution_count": 6,
   "metadata": {},
   "outputs": [],
   "source": [
    "def si(p,r,t):\n",
    "    ans=p*r*t/100\n",
    "    print(f'si => {ans}')\n",
    "    return ans"
   ]
  },
  {
   "cell_type": "code",
   "execution_count": 2,
   "metadata": {},
   "outputs": [
    {
     "name": "stdout",
     "output_type": "stream",
     "text": [
      "si => 2400.0\n"
     ]
    }
   ],
   "source": [
    "si(12000,2,10)"
   ]
  },
  {
   "cell_type": "code",
   "execution_count": 8,
   "metadata": {},
   "outputs": [
    {
     "name": "stdout",
     "output_type": "stream",
     "text": [
      "si => 34500.0\n"
     ]
    }
   ],
   "source": [
    "b=si(100000,11.5,3)"
   ]
  },
  {
   "cell_type": "code",
   "execution_count": 10,
   "metadata": {},
   "outputs": [
    {
     "ename": "TypeError",
     "evalue": "object of type 'float' has no len()",
     "output_type": "error",
     "traceback": [
      "\u001b[1;31m---------------------------------------------------------------------------\u001b[0m",
      "\u001b[1;31mTypeError\u001b[0m                                 Traceback (most recent call last)",
      "Cell \u001b[1;32mIn[10], line 1\u001b[0m\n\u001b[1;32m----> 1\u001b[0m \u001b[39mlen\u001b[39;49m(b)\n",
      "\u001b[1;31mTypeError\u001b[0m: object of type 'float' has no len()"
     ]
    }
   ],
   "source": [
    "len(b)"
   ]
  },
  {
   "cell_type": "code",
   "execution_count": 14,
   "metadata": {},
   "outputs": [],
   "source": [
    "def ci(p,r,t):\n",
    "    ans = p*(1+r/100)**t\n",
    "    print(f'ci => {ans}')\n",
    "    return ans"
   ]
  },
  {
   "cell_type": "code",
   "execution_count": 12,
   "metadata": {},
   "outputs": [
    {
     "name": "stdout",
     "output_type": "stream",
     "text": [
      "si => 50000.0\n"
     ]
    },
    {
     "data": {
      "text/plain": [
       "51000.0"
      ]
     },
     "execution_count": 12,
     "metadata": {},
     "output_type": "execute_result"
    }
   ],
   "source": [
    "si(100000,10,5)+1000"
   ]
  },
  {
   "cell_type": "code",
   "execution_count": 15,
   "metadata": {},
   "outputs": [
    {
     "name": "stdout",
     "output_type": "stream",
     "text": [
      "ci => 161051.00000000006\n"
     ]
    },
    {
     "data": {
      "text/plain": [
       "162051.00000000006"
      ]
     },
     "execution_count": 15,
     "metadata": {},
     "output_type": "execute_result"
    }
   ],
   "source": [
    "ci(100000,10,5)+1000"
   ]
  },
  {
   "cell_type": "code",
   "execution_count": 17,
   "metadata": {},
   "outputs": [],
   "source": [
    "def si(p,r,t):\n",
    "    '''function to calculate simple intrest'''\n",
    "    return p*r*t/100\n",
    "def ci(p,r,t):\n",
    "    return p*(1+r/100)**t"
   ]
  },
  {
   "cell_type": "code",
   "execution_count": null,
   "metadata": {},
   "outputs": [],
   "source": [
    "print(si(15555,3,6))\n",
    "len()"
   ]
  },
  {
   "cell_type": "code",
   "execution_count": 4,
   "metadata": {},
   "outputs": [
    {
     "name": "stdout",
     "output_type": "stream",
     "text": [
      "20 314.0\n"
     ]
    }
   ],
   "source": [
    "# Type your code here\n",
    "import math\n",
    "a=int(input('ra'))\n",
    "area=3.14*a*a\n",
    "b=%2f area\n",
    "di=2*a\n",
    "\n",
    "print(f'{di} {area}')"
   ]
  },
  {
   "cell_type": "code",
   "execution_count": 6,
   "metadata": {},
   "outputs": [
    {
     "name": "stdout",
     "output_type": "stream",
     "text": [
      "20 314.0\n"
     ]
    }
   ],
   "source": [
    "a=int(input())\n",
    "area=3.14*a*a\n",
    "di=2*a\n",
    "print(f'{di} {round(area,3)}')"
   ]
  },
  {
   "cell_type": "code",
   "execution_count": 10,
   "metadata": {},
   "outputs": [
    {
     "name": "stdout",
     "output_type": "stream",
     "text": [
      "20.0 314.00\n"
     ]
    }
   ],
   "source": [
    "a=float(input())\n",
    "area=3.14*a*a\n",
    "v=format(area,'.2f')\n",
    "di=2*a\n",
    "print(f'{di} {v}')"
   ]
  },
  {
   "cell_type": "code",
   "execution_count": 13,
   "metadata": {},
   "outputs": [
    {
     "name": "stdout",
     "output_type": "stream",
     "text": [
      "50.00\n"
     ]
    }
   ],
   "source": [
    "a=int(input())\n",
    "c= (a * 1.8) + 32\n",
    "f=format(F,'.2f')\n",
    "print(f'{f}')"
   ]
  },
  {
   "cell_type": "code",
   "execution_count": 19,
   "metadata": {},
   "outputs": [
    {
     "name": "stdout",
     "output_type": "stream",
     "text": [
      "1234567.89 1234.57\n"
     ]
    }
   ],
   "source": [
    "a=float(input())\n",
    "m=a*0.01\n",
    "q=round(m,2)\n",
    "x=format(q,'.2f')\n",
    "k=a*0.00001\n",
    "y=format(k,'.2f')\n",
    "print(f'{x} {y}')"
   ]
  },
  {
   "cell_type": "code",
   "execution_count": 20,
   "metadata": {},
   "outputs": [
    {
     "name": "stdout",
     "output_type": "stream",
     "text": [
      "12.96\n"
     ]
    }
   ],
   "source": [
    "p=float(input())\n",
    "r=float(input())\n",
    "t=float(input())\n",
    "\n",
    "s=p*r*t/100\n",
    "si=format(s,'.2f')\n",
    "print(f'{si}')"
   ]
  },
  {
   "cell_type": "code",
   "execution_count": 21,
   "metadata": {},
   "outputs": [
    {
     "name": "stdout",
     "output_type": "stream",
     "text": [
      "10.0\n"
     ]
    }
   ],
   "source": [
    "p=input()\n",
    "p=float(p)\n",
    "print(p)"
   ]
  },
  {
   "cell_type": "markdown",
   "metadata": {},
   "source": []
  }
 ],
 "metadata": {
  "kernelspec": {
   "display_name": "base",
   "language": "python",
   "name": "python3"
  },
  "language_info": {
   "codemirror_mode": {
    "name": "ipython",
    "version": 3
   },
   "file_extension": ".py",
   "mimetype": "text/x-python",
   "name": "python",
   "nbconvert_exporter": "python",
   "pygments_lexer": "ipython3",
   "version": "3.10.8"
  },
  "orig_nbformat": 4,
  "vscode": {
   "interpreter": {
    "hash": "193aa6218da7f76a59dc2bd6ea87d2b224c2417ad29cdf12ab4b4772313a8948"
   }
  }
 },
 "nbformat": 4,
 "nbformat_minor": 2
}
