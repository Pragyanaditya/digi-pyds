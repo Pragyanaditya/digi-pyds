{
 "cells": [
  {
   "cell_type": "code",
   "execution_count": 1,
   "metadata": {},
   "outputs": [
    {
     "data": {
      "text/plain": [
       "4"
      ]
     },
     "execution_count": 1,
     "metadata": {},
     "output_type": "execute_result"
    }
   ],
   "source": [
    "2+2\n"
   ]
  },
  {
   "cell_type": "code",
   "execution_count": 6,
   "metadata": {},
   "outputs": [],
   "source": [
    "import pandas as pd\n",
    "import numpy as np\n"
   ]
  },
  {
   "cell_type": "code",
   "execution_count": 7,
   "metadata": {},
   "outputs": [],
   "source": [
    "filepath=\"laptop1.csv\"\n",
    "df=pd.read_csv(filepath)\n"
   ]
  },
  {
   "cell_type": "code",
   "execution_count": 8,
   "metadata": {},
   "outputs": [
    {
     "data": {
      "text/html": [
       "<div>\n",
       "<style scoped>\n",
       "    .dataframe tbody tr th:only-of-type {\n",
       "        vertical-align: middle;\n",
       "    }\n",
       "\n",
       "    .dataframe tbody tr th {\n",
       "        vertical-align: top;\n",
       "    }\n",
       "\n",
       "    .dataframe thead th {\n",
       "        text-align: right;\n",
       "    }\n",
       "</style>\n",
       "<table border=\"1\" class=\"dataframe\">\n",
       "  <thead>\n",
       "    <tr style=\"text-align: right;\">\n",
       "      <th></th>\n",
       "      <th>title</th>\n",
       "      <th>price</th>\n",
       "      <th>rating</th>\n",
       "    </tr>\n",
       "  </thead>\n",
       "  <tbody>\n",
       "    <tr>\n",
       "      <th>0</th>\n",
       "      <td>HP 15s, AMD Ryzen 3 5300U, 15.6 inch(39.6cm) F...</td>\n",
       "      <td>39,990</td>\n",
       "      <td>4.1 out of 5 stars</td>\n",
       "    </tr>\n",
       "    <tr>\n",
       "      <th>1</th>\n",
       "      <td>Dell Vostro 3420 Laptop,12th Gen Intel Core i3...</td>\n",
       "      <td>41,990</td>\n",
       "      <td>3.9 out of 5 stars</td>\n",
       "    </tr>\n",
       "    <tr>\n",
       "      <th>2</th>\n",
       "      <td>Honor MagicBook 14, AMD Ryzen 5 5500U 14-inch ...</td>\n",
       "      <td>44,490</td>\n",
       "      <td>NaN</td>\n",
       "    </tr>\n",
       "    <tr>\n",
       "      <th>3</th>\n",
       "      <td>HP 255 G8 Laptop with AMD Athlon Silver 3050U ...</td>\n",
       "      <td>26,999</td>\n",
       "      <td>NaN</td>\n",
       "    </tr>\n",
       "    <tr>\n",
       "      <th>4</th>\n",
       "      <td>Lenovo IdeaPad Slim 3 Intel Core i3-1115G4 11t...</td>\n",
       "      <td>33,639</td>\n",
       "      <td>4.0 out of 5 stars</td>\n",
       "    </tr>\n",
       "    <tr>\n",
       "      <th>...</th>\n",
       "      <td>...</td>\n",
       "      <td>...</td>\n",
       "      <td>...</td>\n",
       "    </tr>\n",
       "    <tr>\n",
       "      <th>349</th>\n",
       "      <td>(Renewed) DELL Latitude 5490 Core i5 8th Gen L...</td>\n",
       "      <td>26,615</td>\n",
       "      <td>NaN</td>\n",
       "    </tr>\n",
       "    <tr>\n",
       "      <th>350</th>\n",
       "      <td>ASUS Vivobook S 14 Flip (2023), AMD Ryzen 5 75...</td>\n",
       "      <td>68,990</td>\n",
       "      <td>NaN</td>\n",
       "    </tr>\n",
       "    <tr>\n",
       "      <th>351</th>\n",
       "      <td>HP Victus Gaming Laptop AMD Ryzen 5 5600H 15.6...</td>\n",
       "      <td>58,490</td>\n",
       "      <td>NaN</td>\n",
       "    </tr>\n",
       "    <tr>\n",
       "      <th>352</th>\n",
       "      <td>Xiaomi NoteBook Pro 120 12th Gen Intel i5-1245...</td>\n",
       "      <td>64,999</td>\n",
       "      <td>4.0 out of 5 stars</td>\n",
       "    </tr>\n",
       "    <tr>\n",
       "      <th>353</th>\n",
       "      <td>ASUS Vivobook 14, Intel Core i7-1165G7 11th Ge...</td>\n",
       "      <td>56,990</td>\n",
       "      <td>4.1 out of 5 stars</td>\n",
       "    </tr>\n",
       "  </tbody>\n",
       "</table>\n",
       "<p>354 rows × 3 columns</p>\n",
       "</div>"
      ],
      "text/plain": [
       "                                                 title   price  \\\n",
       "0    HP 15s, AMD Ryzen 3 5300U, 15.6 inch(39.6cm) F...  39,990   \n",
       "1    Dell Vostro 3420 Laptop,12th Gen Intel Core i3...  41,990   \n",
       "2    Honor MagicBook 14, AMD Ryzen 5 5500U 14-inch ...  44,490   \n",
       "3    HP 255 G8 Laptop with AMD Athlon Silver 3050U ...  26,999   \n",
       "4    Lenovo IdeaPad Slim 3 Intel Core i3-1115G4 11t...  33,639   \n",
       "..                                                 ...     ...   \n",
       "349  (Renewed) DELL Latitude 5490 Core i5 8th Gen L...  26,615   \n",
       "350  ASUS Vivobook S 14 Flip (2023), AMD Ryzen 5 75...  68,990   \n",
       "351  HP Victus Gaming Laptop AMD Ryzen 5 5600H 15.6...  58,490   \n",
       "352  Xiaomi NoteBook Pro 120 12th Gen Intel i5-1245...  64,999   \n",
       "353  ASUS Vivobook 14, Intel Core i7-1165G7 11th Ge...  56,990   \n",
       "\n",
       "                 rating  \n",
       "0    4.1 out of 5 stars  \n",
       "1    3.9 out of 5 stars  \n",
       "2                   NaN  \n",
       "3                   NaN  \n",
       "4    4.0 out of 5 stars  \n",
       "..                  ...  \n",
       "349                 NaN  \n",
       "350                 NaN  \n",
       "351                 NaN  \n",
       "352  4.0 out of 5 stars  \n",
       "353  4.1 out of 5 stars  \n",
       "\n",
       "[354 rows x 3 columns]"
      ]
     },
     "execution_count": 8,
     "metadata": {},
     "output_type": "execute_result"
    }
   ],
   "source": [
    "df"
   ]
  },
  {
   "cell_type": "code",
   "execution_count": 9,
   "metadata": {},
   "outputs": [
    {
     "name": "stdout",
     "output_type": "stream",
     "text": [
      "<class 'pandas.core.frame.DataFrame'>\n",
      "RangeIndex: 354 entries, 0 to 353\n",
      "Data columns (total 3 columns):\n",
      " #   Column  Non-Null Count  Dtype \n",
      "---  ------  --------------  ----- \n",
      " 0   title   318 non-null    object\n",
      " 1   price   348 non-null    object\n",
      " 2   rating  203 non-null    object\n",
      "dtypes: object(3)\n",
      "memory usage: 8.4+ KB\n"
     ]
    }
   ],
   "source": [
    "df.info()"
   ]
  },
  {
   "cell_type": "code",
   "execution_count": null,
   "metadata": {},
   "outputs": [],
   "source": []
  },
  {
   "attachments": {},
   "cell_type": "markdown",
   "metadata": {},
   "source": [
    "df\n",
    "\n",
    "\n",
    "processing\n",
    "- colums\n",
    "    - single value\n",
    "        - function(single value)\n",
    "            - return clean value\n",
    "\n",
    "df[colum].apply(function)\n",
    "\n"
   ]
  },
  {
   "cell_type": "code",
   "execution_count": 11,
   "metadata": {},
   "outputs": [
    {
     "name": "stdout",
     "output_type": "stream",
     "text": [
      "['title', 'price', 'rating']\n"
     ]
    }
   ],
   "source": [
    "print(df.columns.tolist())"
   ]
  },
  {
   "cell_type": "code",
   "execution_count": 12,
   "metadata": {},
   "outputs": [
    {
     "data": {
      "text/plain": [
       "'90000'"
      ]
     },
     "execution_count": 12,
     "metadata": {},
     "output_type": "execute_result"
    }
   ],
   "source": [
    "'900,00'.replace(',','') #to remove comma"
   ]
  },
  {
   "cell_type": "code",
   "execution_count": 18,
   "metadata": {},
   "outputs": [],
   "source": [
    "def clean_price(price):\n",
    "    if isinstance(price,str):\n",
    "        price=price.replace(',','') #remove comma\n",
    "        price=price.strip() #remove whitespace\n",
    "        if price.isnumeric():\n",
    "            price=int(price)\n",
    "            return price\n",
    "        if len(price)==0:\n",
    "            return np.nan\n",
    "    return price"
   ]
  },
  {
   "cell_type": "code",
   "execution_count": 20,
   "metadata": {},
   "outputs": [
    {
     "data": {
      "text/plain": [
       "'abc100'"
      ]
     },
     "execution_count": 20,
     "metadata": {},
     "output_type": "execute_result"
    }
   ],
   "source": [
    "clean_price('abc100')"
   ]
  },
  {
   "cell_type": "code",
   "execution_count": 22,
   "metadata": {},
   "outputs": [],
   "source": [
    "df[\"cleaned_price\"]=df['price'].apply(clean_price)"
   ]
  },
  {
   "cell_type": "code",
   "execution_count": 23,
   "metadata": {},
   "outputs": [
    {
     "data": {
      "text/html": [
       "<div>\n",
       "<style scoped>\n",
       "    .dataframe tbody tr th:only-of-type {\n",
       "        vertical-align: middle;\n",
       "    }\n",
       "\n",
       "    .dataframe tbody tr th {\n",
       "        vertical-align: top;\n",
       "    }\n",
       "\n",
       "    .dataframe thead th {\n",
       "        text-align: right;\n",
       "    }\n",
       "</style>\n",
       "<table border=\"1\" class=\"dataframe\">\n",
       "  <thead>\n",
       "    <tr style=\"text-align: right;\">\n",
       "      <th></th>\n",
       "      <th>title</th>\n",
       "      <th>price</th>\n",
       "      <th>rating</th>\n",
       "      <th>cleaned_price</th>\n",
       "    </tr>\n",
       "  </thead>\n",
       "  <tbody>\n",
       "    <tr>\n",
       "      <th>0</th>\n",
       "      <td>HP 15s, AMD Ryzen 3 5300U, 15.6 inch(39.6cm) F...</td>\n",
       "      <td>39,990</td>\n",
       "      <td>4.1 out of 5 stars</td>\n",
       "      <td>39990.0</td>\n",
       "    </tr>\n",
       "    <tr>\n",
       "      <th>1</th>\n",
       "      <td>Dell Vostro 3420 Laptop,12th Gen Intel Core i3...</td>\n",
       "      <td>41,990</td>\n",
       "      <td>3.9 out of 5 stars</td>\n",
       "      <td>41990.0</td>\n",
       "    </tr>\n",
       "    <tr>\n",
       "      <th>2</th>\n",
       "      <td>Honor MagicBook 14, AMD Ryzen 5 5500U 14-inch ...</td>\n",
       "      <td>44,490</td>\n",
       "      <td>NaN</td>\n",
       "      <td>44490.0</td>\n",
       "    </tr>\n",
       "    <tr>\n",
       "      <th>3</th>\n",
       "      <td>HP 255 G8 Laptop with AMD Athlon Silver 3050U ...</td>\n",
       "      <td>26,999</td>\n",
       "      <td>NaN</td>\n",
       "      <td>26999.0</td>\n",
       "    </tr>\n",
       "    <tr>\n",
       "      <th>4</th>\n",
       "      <td>Lenovo IdeaPad Slim 3 Intel Core i3-1115G4 11t...</td>\n",
       "      <td>33,639</td>\n",
       "      <td>4.0 out of 5 stars</td>\n",
       "      <td>33639.0</td>\n",
       "    </tr>\n",
       "    <tr>\n",
       "      <th>...</th>\n",
       "      <td>...</td>\n",
       "      <td>...</td>\n",
       "      <td>...</td>\n",
       "      <td>...</td>\n",
       "    </tr>\n",
       "    <tr>\n",
       "      <th>349</th>\n",
       "      <td>(Renewed) DELL Latitude 5490 Core i5 8th Gen L...</td>\n",
       "      <td>26,615</td>\n",
       "      <td>NaN</td>\n",
       "      <td>26615.0</td>\n",
       "    </tr>\n",
       "    <tr>\n",
       "      <th>350</th>\n",
       "      <td>ASUS Vivobook S 14 Flip (2023), AMD Ryzen 5 75...</td>\n",
       "      <td>68,990</td>\n",
       "      <td>NaN</td>\n",
       "      <td>68990.0</td>\n",
       "    </tr>\n",
       "    <tr>\n",
       "      <th>351</th>\n",
       "      <td>HP Victus Gaming Laptop AMD Ryzen 5 5600H 15.6...</td>\n",
       "      <td>58,490</td>\n",
       "      <td>NaN</td>\n",
       "      <td>58490.0</td>\n",
       "    </tr>\n",
       "    <tr>\n",
       "      <th>352</th>\n",
       "      <td>Xiaomi NoteBook Pro 120 12th Gen Intel i5-1245...</td>\n",
       "      <td>64,999</td>\n",
       "      <td>4.0 out of 5 stars</td>\n",
       "      <td>64999.0</td>\n",
       "    </tr>\n",
       "    <tr>\n",
       "      <th>353</th>\n",
       "      <td>ASUS Vivobook 14, Intel Core i7-1165G7 11th Ge...</td>\n",
       "      <td>56,990</td>\n",
       "      <td>4.1 out of 5 stars</td>\n",
       "      <td>56990.0</td>\n",
       "    </tr>\n",
       "  </tbody>\n",
       "</table>\n",
       "<p>354 rows × 4 columns</p>\n",
       "</div>"
      ],
      "text/plain": [
       "                                                 title   price  \\\n",
       "0    HP 15s, AMD Ryzen 3 5300U, 15.6 inch(39.6cm) F...  39,990   \n",
       "1    Dell Vostro 3420 Laptop,12th Gen Intel Core i3...  41,990   \n",
       "2    Honor MagicBook 14, AMD Ryzen 5 5500U 14-inch ...  44,490   \n",
       "3    HP 255 G8 Laptop with AMD Athlon Silver 3050U ...  26,999   \n",
       "4    Lenovo IdeaPad Slim 3 Intel Core i3-1115G4 11t...  33,639   \n",
       "..                                                 ...     ...   \n",
       "349  (Renewed) DELL Latitude 5490 Core i5 8th Gen L...  26,615   \n",
       "350  ASUS Vivobook S 14 Flip (2023), AMD Ryzen 5 75...  68,990   \n",
       "351  HP Victus Gaming Laptop AMD Ryzen 5 5600H 15.6...  58,490   \n",
       "352  Xiaomi NoteBook Pro 120 12th Gen Intel i5-1245...  64,999   \n",
       "353  ASUS Vivobook 14, Intel Core i7-1165G7 11th Ge...  56,990   \n",
       "\n",
       "                 rating  cleaned_price  \n",
       "0    4.1 out of 5 stars        39990.0  \n",
       "1    3.9 out of 5 stars        41990.0  \n",
       "2                   NaN        44490.0  \n",
       "3                   NaN        26999.0  \n",
       "4    4.0 out of 5 stars        33639.0  \n",
       "..                  ...            ...  \n",
       "349                 NaN        26615.0  \n",
       "350                 NaN        68990.0  \n",
       "351                 NaN        58490.0  \n",
       "352  4.0 out of 5 stars        64999.0  \n",
       "353  4.1 out of 5 stars        56990.0  \n",
       "\n",
       "[354 rows x 4 columns]"
      ]
     },
     "execution_count": 23,
     "metadata": {},
     "output_type": "execute_result"
    }
   ],
   "source": [
    "df"
   ]
  },
  {
   "cell_type": "code",
   "execution_count": null,
   "metadata": {},
   "outputs": [],
   "source": []
  },
  {
   "cell_type": "code",
   "execution_count": 24,
   "metadata": {},
   "outputs": [],
   "source": [
    "def clean_rating(rating):\n",
    "    if isinstance(rating,str):\n",
    "        rating=rating.split()[0]\n",
    "        return float(rating)\n",
    "    return rating"
   ]
  },
  {
   "cell_type": "code",
   "execution_count": 26,
   "metadata": {},
   "outputs": [],
   "source": [
    "df[\"cleaned_rating\"]=df['rating'].apply(clean_rating)"
   ]
  },
  {
   "cell_type": "code",
   "execution_count": 30,
   "metadata": {},
   "outputs": [],
   "source": [
    "df.sort_values(by='cleaned_rating',ascending=False,inplace=True)"
   ]
  },
  {
   "cell_type": "code",
   "execution_count": 31,
   "metadata": {},
   "outputs": [
    {
     "data": {
      "text/html": [
       "<div>\n",
       "<style scoped>\n",
       "    .dataframe tbody tr th:only-of-type {\n",
       "        vertical-align: middle;\n",
       "    }\n",
       "\n",
       "    .dataframe tbody tr th {\n",
       "        vertical-align: top;\n",
       "    }\n",
       "\n",
       "    .dataframe thead th {\n",
       "        text-align: right;\n",
       "    }\n",
       "</style>\n",
       "<table border=\"1\" class=\"dataframe\">\n",
       "  <thead>\n",
       "    <tr style=\"text-align: right;\">\n",
       "      <th></th>\n",
       "      <th>title</th>\n",
       "      <th>price</th>\n",
       "      <th>rating</th>\n",
       "      <th>cleaned_price</th>\n",
       "      <th>cleaned_rating</th>\n",
       "    </tr>\n",
       "  </thead>\n",
       "  <tbody>\n",
       "    <tr>\n",
       "      <th>231</th>\n",
       "      <td>HP EliteBook 830 G5 Laptop 13.3\" FHD | 1.7GHz ...</td>\n",
       "      <td>29,800</td>\n",
       "      <td>4.2 out of 5 stars</td>\n",
       "      <td>29800.0</td>\n",
       "      <td>4.2</td>\n",
       "    </tr>\n",
       "    <tr>\n",
       "      <th>120</th>\n",
       "      <td>Dell Vostro 3420 Metal Laptop, Intel Core i5-1...</td>\n",
       "      <td>64,450</td>\n",
       "      <td>4.2 out of 5 stars</td>\n",
       "      <td>64450.0</td>\n",
       "      <td>4.2</td>\n",
       "    </tr>\n",
       "    <tr>\n",
       "      <th>203</th>\n",
       "      <td>Xioami NotebookUltra 3.2K Resolution Display I...</td>\n",
       "      <td>58,999</td>\n",
       "      <td>4.2 out of 5 stars</td>\n",
       "      <td>58999.0</td>\n",
       "      <td>4.2</td>\n",
       "    </tr>\n",
       "    <tr>\n",
       "      <th>204</th>\n",
       "      <td>HP 14s, Ryzen 7- 5700U 16GB RAM/512GB SSD 14-i...</td>\n",
       "      <td>56,990</td>\n",
       "      <td>4.2 out of 5 stars</td>\n",
       "      <td>56990.0</td>\n",
       "      <td>4.2</td>\n",
       "    </tr>\n",
       "    <tr>\n",
       "      <th>273</th>\n",
       "      <td>HP 14s, Ryzen 7- 5700U 16GB RAM/512GB SSD 14-i...</td>\n",
       "      <td>56,990</td>\n",
       "      <td>4.2 out of 5 stars</td>\n",
       "      <td>56990.0</td>\n",
       "      <td>4.2</td>\n",
       "    </tr>\n",
       "    <tr>\n",
       "      <th>...</th>\n",
       "      <td>...</td>\n",
       "      <td>...</td>\n",
       "      <td>...</td>\n",
       "      <td>...</td>\n",
       "      <td>...</td>\n",
       "    </tr>\n",
       "    <tr>\n",
       "      <th>13</th>\n",
       "      <td>AmazonBasics Laptop Sleeve Case Cover Pouch fo...</td>\n",
       "      <td>409</td>\n",
       "      <td>NaN</td>\n",
       "      <td>409.0</td>\n",
       "      <td>NaN</td>\n",
       "    </tr>\n",
       "    <tr>\n",
       "      <th>200</th>\n",
       "      <td>(renewed) Latitude D620 core 2 Duo Laptop/4 gb...</td>\n",
       "      <td>NaN</td>\n",
       "      <td>NaN</td>\n",
       "      <td>NaN</td>\n",
       "      <td>NaN</td>\n",
       "    </tr>\n",
       "    <tr>\n",
       "      <th>259</th>\n",
       "      <td>Dell Inspiron 3511 Laptop, Intel i3-1115G4, 8G...</td>\n",
       "      <td>NaN</td>\n",
       "      <td>NaN</td>\n",
       "      <td>NaN</td>\n",
       "      <td>NaN</td>\n",
       "    </tr>\n",
       "    <tr>\n",
       "      <th>298</th>\n",
       "      <td>(Renewed) Lenovo IdeaPad 3 11th Gen Intel Core...</td>\n",
       "      <td>NaN</td>\n",
       "      <td>NaN</td>\n",
       "      <td>NaN</td>\n",
       "      <td>NaN</td>\n",
       "    </tr>\n",
       "    <tr>\n",
       "      <th>335</th>\n",
       "      <td>(Renewed) Dell Latitude Laptop E5470 Intel Cor...</td>\n",
       "      <td>NaN</td>\n",
       "      <td>NaN</td>\n",
       "      <td>NaN</td>\n",
       "      <td>NaN</td>\n",
       "    </tr>\n",
       "  </tbody>\n",
       "</table>\n",
       "<p>354 rows × 5 columns</p>\n",
       "</div>"
      ],
      "text/plain": [
       "                                                 title   price  \\\n",
       "231  HP EliteBook 830 G5 Laptop 13.3\" FHD | 1.7GHz ...  29,800   \n",
       "120  Dell Vostro 3420 Metal Laptop, Intel Core i5-1...  64,450   \n",
       "203  Xioami NotebookUltra 3.2K Resolution Display I...  58,999   \n",
       "204  HP 14s, Ryzen 7- 5700U 16GB RAM/512GB SSD 14-i...  56,990   \n",
       "273  HP 14s, Ryzen 7- 5700U 16GB RAM/512GB SSD 14-i...  56,990   \n",
       "..                                                 ...     ...   \n",
       "13   AmazonBasics Laptop Sleeve Case Cover Pouch fo...     409   \n",
       "200  (renewed) Latitude D620 core 2 Duo Laptop/4 gb...     NaN   \n",
       "259  Dell Inspiron 3511 Laptop, Intel i3-1115G4, 8G...     NaN   \n",
       "298  (Renewed) Lenovo IdeaPad 3 11th Gen Intel Core...     NaN   \n",
       "335  (Renewed) Dell Latitude Laptop E5470 Intel Cor...     NaN   \n",
       "\n",
       "                 rating  cleaned_price  cleaned_rating  \n",
       "231  4.2 out of 5 stars        29800.0             4.2  \n",
       "120  4.2 out of 5 stars        64450.0             4.2  \n",
       "203  4.2 out of 5 stars        58999.0             4.2  \n",
       "204  4.2 out of 5 stars        56990.0             4.2  \n",
       "273  4.2 out of 5 stars        56990.0             4.2  \n",
       "..                  ...            ...             ...  \n",
       "13                  NaN          409.0             NaN  \n",
       "200                 NaN            NaN             NaN  \n",
       "259                 NaN            NaN             NaN  \n",
       "298                 NaN            NaN             NaN  \n",
       "335                 NaN            NaN             NaN  \n",
       "\n",
       "[354 rows x 5 columns]"
      ]
     },
     "execution_count": 31,
     "metadata": {},
     "output_type": "execute_result"
    }
   ],
   "source": [
    "df"
   ]
  },
  {
   "cell_type": "code",
   "execution_count": null,
   "metadata": {},
   "outputs": [],
   "source": []
  }
 ],
 "metadata": {
  "kernelspec": {
   "display_name": "base",
   "language": "python",
   "name": "python3"
  },
  "language_info": {
   "codemirror_mode": {
    "name": "ipython",
    "version": 3
   },
   "file_extension": ".py",
   "mimetype": "text/x-python",
   "name": "python",
   "nbconvert_exporter": "python",
   "pygments_lexer": "ipython3",
   "version": "3.10.8"
  },
  "orig_nbformat": 4,
  "vscode": {
   "interpreter": {
    "hash": "193aa6218da7f76a59dc2bd6ea87d2b224c2417ad29cdf12ab4b4772313a8948"
   }
  }
 },
 "nbformat": 4,
 "nbformat_minor": 2
}
