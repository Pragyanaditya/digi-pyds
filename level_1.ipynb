{
 "cells": [
  {
   "attachments": {},
   "cell_type": "markdown",
   "metadata": {},
   "source": [
    "# programing\n",
    "### LEVEL 1\n",
    "- VARIABLES\n",
    "- DATATYPE\n",
    "- OPERATOR\t\n",
    "- INPUT OUTPUT\n",
    "### LEVEL 2\n",
    "- CONDITIONS\n",
    "- LOOPS\n",
    "- FUNCTION\n",
    "### LEVEL 3 (DATA STRUCTURE)\n",
    "- STRING\n",
    "- LIST\n",
    "- DICTONARI\n",
    "- TOUPLES AND SET"
   ]
  },
  {
   "cell_type": "code",
   "execution_count": null,
   "metadata": {},
   "outputs": [],
   "source": []
  }
 ],
 "metadata": {
  "kernelspec": {
   "display_name": "base",
   "language": "python",
   "name": "python3"
  },
  "language_info": {
   "codemirror_mode": {
    "name": "ipython",
    "version": 3
   },
   "file_extension": ".py",
   "mimetype": "text/x-python",
   "name": "python",
   "nbconvert_exporter": "python",
   "pygments_lexer": "ipython3",
   "version": "3.10.8"
  },
  "orig_nbformat": 4,
  "vscode": {
   "interpreter": {
    "hash": "193aa6218da7f76a59dc2bd6ea87d2b224c2417ad29cdf12ab4b4772313a8948"
   }
  }
 },
 "nbformat": 4,
 "nbformat_minor": 2
}
