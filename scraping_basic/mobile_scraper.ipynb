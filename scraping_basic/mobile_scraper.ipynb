{
 "cells": [
  {
   "cell_type": "code",
   "execution_count": 9,
   "metadata": {},
   "outputs": [],
   "source": [
    "from dputils.scrape import Scraper, Tag\n"
   ]
  },
  {
   "cell_type": "code",
   "execution_count": 10,
   "metadata": {},
   "outputs": [
    {
     "name": "stdout",
     "output_type": "stream",
     "text": [
      "<title>Amazon.in : phone</title>\n"
     ]
    }
   ],
   "source": [
    "query='phone'\n",
    "page=1\n",
    "webpage=Scraper(f'https://www.amazon.in/s?k={query}&page={page}')\n",
    "print(webpage.soup.title)\n"
   ]
  },
  {
   "cell_type": "code",
   "execution_count": 12,
   "metadata": {},
   "outputs": [],
   "source": [
    "target=Tag('div',cls=\"s-main-slot s-result-list s-search-results sg-row\")\n",
    "items=Tag('div', cls='s-result-item')# repeating products\n",
    "title=Tag('h2', cls='a-size-mini a-spacing-none a-color-base s-line-clamp-2')\n",
    "price=Tag('span',cls='a-price-whole')\n",
    "rating=Tag('i', cls=\"a-icon a-icon-star-small a-star-small-4 aok-align-bottom\")"
   ]
  },
  {
   "cell_type": "code",
   "execution_count": 13,
   "metadata": {},
   "outputs": [
    {
     "data": {
      "text/plain": [
       "[{'title': None, 'price': None, 'rating': None},\n",
       " {'title': None, 'price': None, 'rating': None},\n",
       " {'title': 'Redmi Note 12 5G Matte Black 6GB RAM 128GB ROM | 1st Phone with 120Hz Super AMOLED and Snapdragon® 4 Gen 1 | 48MP AI Triple Camera  ',\n",
       "  'price': '19,999',\n",
       "  'rating': '3.9 out of 5 stars'},\n",
       " {'title': 'Tecno Spark 9 (Sky Mirror, 6GB RAM,128GB Storage) | 11GB Expandable RAM | Helio G37 Gaming Processor  ',\n",
       "  'price': '8,999',\n",
       "  'rating': '3.9 out of 5 stars'},\n",
       " {'title': 'Nokia 105 Single SIM, Keypad Mobile Phone with Wireless FM Radio | Charcoal  ',\n",
       "  'price': '1,299',\n",
       "  'rating': '3.8 out of 5 stars'},\n",
       " {'title': 'Nokia 110 Dual sim Keypad Phone with Wireless FM Radio, Free Earphone, Snake Game, Auto Call Recording, 1 Year Replacement Guarantee | Cyan  ',\n",
       "  'price': '1,649',\n",
       "  'rating': '3.8 out of 5 stars'},\n",
       " {'title': 'Nokia C12 Android 12 (Go Edition) Smartphone, All-Day Battery, 4GB RAM (2GB RAM + 2GB Virtual RAM) + 64GB Capacity | Light Mint  ',\n",
       "  'price': '6,599',\n",
       "  'rating': None},\n",
       " {'title': 'Samsung Galaxy S20 FE 5G (Cloud Mint, 8GB RAM, 128GB Storage)  ',\n",
       "  'price': '29,979',\n",
       "  'rating': '4.2 out of 5 stars'},\n",
       " {'title': None, 'price': None, 'rating': None},\n",
       " {'title': 'OPPO A74 5G (Fantastic Purple,6GB RAM,128GB Storage) with No Cost EMI/Additional Exchange Offers  ',\n",
       "  'price': '15,990',\n",
       "  'rating': '4.2 out of 5 stars'},\n",
       " {'title': 'realme narzo 50i Prime (Mint Green 3GB RAM+32GB Storage) Octa-core Processor | 5000 mAh Battery  ',\n",
       "  'price': '7,499',\n",
       "  'rating': '4.0 out of 5 stars'},\n",
       " {'title': 'Oppo A78 5G (Glowing Black, 8GB RAM, 128 Storage) | 5000 mAh Battery with 33W SUPERVOOC Charger| 50MP AI Camera | 90Hz Refresh Rate | with No Cost EMI/Additional Exchange Offers  ',\n",
       "  'price': '18,999',\n",
       "  'rating': '4.2 out of 5 stars'},\n",
       " {'title': 'Redmi A1 (Light Green, 2GB RAM 32GB ROM) | Segment Best AI Dual Cam | 5000mAh Battery | Leather Texture Design | Android 12  ',\n",
       "  'price': '6,499',\n",
       "  'rating': '4.0 out of 5 stars'},\n",
       " {'title': 'Redmi A1 (Black, 2GB RAM, 32GB Storage) | Segment Best AI Dual Cam | 5000mAh Battery | Leather Texture Design | Android 12  ',\n",
       "  'price': '6,499',\n",
       "  'rating': '4.0 out of 5 stars'},\n",
       " {'title': 'Redmi 11 Prime 5G (Thunder Black, 4GB RAM, 64GB Storage) | Prime Design | MTK Dimensity 700 | 50 MP Dual Cam | 5000mAh | 7 Band 5G  ',\n",
       "  'price': '13,999',\n",
       "  'rating': '3.9 out of 5 stars'},\n",
       " {'title': 'Redmi 11 Prime 5G (Chrome Silver, 4GB RAM 64GB ROM) | Prime Design | MTK Dimensity 700 | 50 MP Dual Cam | 5000mAh | 7 Band 5G  ',\n",
       "  'price': '13,999',\n",
       "  'rating': '3.9 out of 5 stars'},\n",
       " {'title': None, 'price': None, 'rating': None},\n",
       " {'title': 'Samsung Galaxy M04 Dark Blue, 4GB RAM, 64GB Storage | Upto 8GB RAM with RAM Plus | MediaTek Helio P35 | 5000 mAh Battery  ',\n",
       "  'price': '9,249',\n",
       "  'rating': '3.9 out of 5 stars'},\n",
       " {'title': 'Redmi 9A Sport (Coral Green, 2GB RAM, 32GB Storage) | 2GHz Octa-core Helio G25 Processor | 5000 mAh Battery  ',\n",
       "  'price': '6,499',\n",
       "  'rating': '4.1 out of 5 stars'},\n",
       " {'title': 'Nokia 2660 Flip 4G Volte keypad Phone with Dual SIM, Dual Screen, inbuilt MP3 Player & Wireless FM Radio | Black  ',\n",
       "  'price': None,\n",
       "  'rating': None},\n",
       " {'title': 'Redmi 10A (Charcoal Black, 4GB RAM, 64GB Storage) | 2 Ghz Octa Core Helio G25 | 5000 mAh Battery | Finger Print Sensor | Upto 5GB RAM with RAM Booster  ',\n",
       "  'price': '8,999',\n",
       "  'rating': '4.0 out of 5 stars'},\n",
       " {'title': 'realme narzo 50 (Speed Black, 4GB RAM+64GB Storage) Helio G96 Processor | 50MP AI Triple Camera | 120Hz Ultra Smooth Display  ',\n",
       "  'price': '10,499',\n",
       "  'rating': '4.2 out of 5 stars'},\n",
       " {'title': 'Nokia 2660 Flip 4G Volte keypad Phone with Dual SIM, Dual Screen, inbuilt MP3 Player & Wireless FM Radio | Blue  ',\n",
       "  'price': '4,499',\n",
       "  'rating': None},\n",
       " {'title': 'Samsung Galaxy M04 Light Green, 4GB RAM, 128GB Storage | Upto 8GB RAM with RAM Plus | MediaTek Helio P35 | 5000 mAh Battery  ',\n",
       "  'price': '10,249',\n",
       "  'rating': '3.9 out of 5 stars'},\n",
       " {'title': 'Redmi 9 Activ (Carbon Black, 4GB RAM, 64GB Storage) | Octa-core Helio G35 | 5000 mAh Battery  ',\n",
       "  'price': '547.',\n",
       "  'rating': '4.1 out of 5 stars'},\n",
       " {'title': 'Redmi 9 Activ (Carbon Black, 4GB RAM, 64GB Storage) | Octa-core Helio G35 | 5000 mAh Battery  ',\n",
       "  'price': None,\n",
       "  'rating': '4.1 out of 5 stars'},\n",
       " {'title': 'IPHONE UNLOCKED  ', 'price': '547.', 'rating': None},\n",
       " {'title': 'Nillkin Galaxy S23 Ultra Case with Camera Cover, CamShield Pro for Samsung S23 Ultra Case, Slim Fit Thin Shockproof Cover for Samsung Galaxy S23 Ultra 5G 2023 (Deep Blue)  ',\n",
       "  'price': '1,099',\n",
       "  'rating': None},\n",
       " {'title': \"Nillkin A53 5G Case, for Samsung Galaxy A53 5G Case, CamShield Pro Case with Slide Camera Cover, for Samsung a53 5g A Series Smartphone case 6.46'' -2022 (Black)  \",\n",
       "  'price': '1,075',\n",
       "  'rating': None},\n",
       " {'title': 'Redmi A1 (Light Blue, 2GB RAM, 32GB Storage) | Segment Best AI Dual Cam | 5000mAh Battery | Leather Texture Design | Android 12  ',\n",
       "  'price': '6,499',\n",
       "  'rating': '4.0 out of 5 stars'},\n",
       " {'title': 'OPPO A74 5G (Fantastic Purple,6GB RAM,128GB Storage) with No Cost EMI/Additional Exchange Offers  ',\n",
       "  'price': '15,990',\n",
       "  'rating': '4.2 out of 5 stars'},\n",
       " {'title': 'Redmi 10A (Slate Grey, 4GB RAM, 64GB Storage) | 2 Ghz Octa Core Helio G25 | 5000 mAh Battery | Finger Print Sensor | Upto 5GB RAM with RAM Booster  ',\n",
       "  'price': '8,999',\n",
       "  'rating': '4.0 out of 5 stars'},\n",
       " {'title': 'Redmi 9A Sport (Coral Green, 2GB RAM, 32GB Storage) | 2GHz Octa-core Helio G25 Processor | 5000 mAh Battery  ',\n",
       "  'price': '6,499',\n",
       "  'rating': '4.1 out of 5 stars'},\n",
       " {'title': None, 'price': None, 'rating': None},\n",
       " {'title': None, 'price': None, 'rating': None},\n",
       " {'title': None, 'price': None, 'rating': None},\n",
       " {'title': None, 'price': None, 'rating': None}]"
      ]
     },
     "execution_count": 13,
     "metadata": {},
     "output_type": "execute_result"
    }
   ],
   "source": [
    "webpage.get_all(target,items,title=title, price=price,rating=rating)"
   ]
  },
  {
   "cell_type": "code",
   "execution_count": 14,
   "metadata": {},
   "outputs": [],
   "source": [
    "def Scrape_product(query,page=1):\n",
    "    webpage=Scraper(f'https://www.amazon.in/s?k={query}&page={page}')\n",
    "    print(webpage.soup.title)\n",
    "\n",
    "    target=Tag('div',cls=\"s-main-slot s-result-list s-search-results sg-row\")\n",
    "    items=Tag('div', cls='s-result-item')# repeating products\n",
    "    title=Tag('h2', cls='a-size-mini a-spacing-none a-color-base s-line-clamp-2')\n",
    "    price=Tag('span',cls='a-price-whole')\n",
    "    rating=Tag('i', cls=\"a-icon a-icon-star-small a-star-small-4 aok-align-bottom\")\n",
    "\n",
    "    return webpage.get_all(target,items,title=title, price=price,rating=rating)"
   ]
  },
  {
   "cell_type": "code",
   "execution_count": 15,
   "metadata": {},
   "outputs": [
    {
     "name": "stdout",
     "output_type": "stream",
     "text": [
      "<title>Amazon.in : laptops</title>\n",
      "Page 1 done\n",
      "<title>Amazon.in : laptops</title>\n",
      "Page 2 done\n",
      "<title>Amazon.in : laptops</title>\n",
      "Page 3 done\n",
      "<title>Amazon.in : laptops</title>\n",
      "Page 4 done\n"
     ]
    }
   ],
   "source": [
    "all_data=[]\n",
    "query='laptops'\n",
    "for i in range (1,5):\n",
    "    all_data.extend(Scrape_product(query,i))\n",
    "    print(f'Page {i} done')"
   ]
  },
  {
   "cell_type": "code",
   "execution_count": 16,
   "metadata": {},
   "outputs": [
    {
     "data": {
      "text/plain": [
       "132"
      ]
     },
     "execution_count": 16,
     "metadata": {},
     "output_type": "execute_result"
    }
   ],
   "source": [
    "len(all_data)\n"
   ]
  },
  {
   "cell_type": "code",
   "execution_count": 17,
   "metadata": {},
   "outputs": [],
   "source": [
    "import pandas as pd\n",
    "df=pd.DataFrame(all_data).dropna(how='all')\n",
    "\n",
    "df.to_csv('laptop1.csv',index=False)"
   ]
  },
  {
   "cell_type": "code",
   "execution_count": null,
   "metadata": {},
   "outputs": [],
   "source": []
  }
 ],
 "metadata": {
  "kernelspec": {
   "display_name": "base",
   "language": "python",
   "name": "python3"
  },
  "language_info": {
   "codemirror_mode": {
    "name": "ipython",
    "version": 3
   },
   "file_extension": ".py",
   "mimetype": "text/x-python",
   "name": "python",
   "nbconvert_exporter": "python",
   "pygments_lexer": "ipython3",
   "version": "3.10.8"
  },
  "orig_nbformat": 4,
  "vscode": {
   "interpreter": {
    "hash": "193aa6218da7f76a59dc2bd6ea87d2b224c2417ad29cdf12ab4b4772313a8948"
   }
  }
 },
 "nbformat": 4,
 "nbformat_minor": 2
}
