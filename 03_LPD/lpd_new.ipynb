{
 "cells": [
  {
   "cell_type": "code",
   "execution_count": 2,
   "metadata": {},
   "outputs": [],
   "source": [
    "import pandas as pd\n",
    "import numpy as np"
   ]
  },
  {
   "cell_type": "code",
   "execution_count": 3,
   "metadata": {},
   "outputs": [],
   "source": [
    "filepath=\"LPD.csv\"\n",
    "df=pd.read_csv(filepath,encoding_errors='ignore')"
   ]
  },
  {
   "cell_type": "code",
   "execution_count": 4,
   "metadata": {},
   "outputs": [],
   "source": [
    "xf=df"
   ]
  },
  {
   "cell_type": "code",
   "execution_count": 5,
   "metadata": {},
   "outputs": [],
   "source": [
    "xf=xf.rename(columns={'Age of the patient':'age','Gender of the patient':'gender',\n",
    "                  'Total Bilirubin':'tb','Direct Bilirubin':'db','Alkphos Alkaline Phosphotase':'aap',\n",
    "                  'Sgpt Alamine Aminotransferase':'sgpt','Sgot Aspartate Aminotransferase':'sgot',\n",
    "                  'Total Protiens':'tp','ALB Albumin':'alb','A/G Ratio Albumin and Globulin Ratio':'a/g_ratio',\n",
    "                  'Result':'result'})\n"
   ]
  },
  {
   "cell_type": "code",
   "execution_count": 6,
   "metadata": {},
   "outputs": [
    {
     "data": {
      "text/html": [
       "<div>\n",
       "<style scoped>\n",
       "    .dataframe tbody tr th:only-of-type {\n",
       "        vertical-align: middle;\n",
       "    }\n",
       "\n",
       "    .dataframe tbody tr th {\n",
       "        vertical-align: top;\n",
       "    }\n",
       "\n",
       "    .dataframe thead th {\n",
       "        text-align: right;\n",
       "    }\n",
       "</style>\n",
       "<table border=\"1\" class=\"dataframe\">\n",
       "  <thead>\n",
       "    <tr style=\"text-align: right;\">\n",
       "      <th></th>\n",
       "      <th>age</th>\n",
       "      <th>gender</th>\n",
       "      <th>tb</th>\n",
       "      <th>db</th>\n",
       "      <th>aap</th>\n",
       "      <th>sgpt</th>\n",
       "      <th>sgot</th>\n",
       "      <th>tp</th>\n",
       "      <th>alb</th>\n",
       "      <th>a/g_ratio</th>\n",
       "      <th>result</th>\n",
       "    </tr>\n",
       "  </thead>\n",
       "  <tbody>\n",
       "    <tr>\n",
       "      <th>0</th>\n",
       "      <td>65.0</td>\n",
       "      <td>Female</td>\n",
       "      <td>0.7</td>\n",
       "      <td>0.1</td>\n",
       "      <td>187.0</td>\n",
       "      <td>16.0</td>\n",
       "      <td>18.0</td>\n",
       "      <td>6.8</td>\n",
       "      <td>3.3</td>\n",
       "      <td>0.90</td>\n",
       "      <td>1</td>\n",
       "    </tr>\n",
       "    <tr>\n",
       "      <th>1</th>\n",
       "      <td>62.0</td>\n",
       "      <td>Male</td>\n",
       "      <td>10.9</td>\n",
       "      <td>5.5</td>\n",
       "      <td>699.0</td>\n",
       "      <td>64.0</td>\n",
       "      <td>100.0</td>\n",
       "      <td>7.5</td>\n",
       "      <td>3.2</td>\n",
       "      <td>0.74</td>\n",
       "      <td>1</td>\n",
       "    </tr>\n",
       "    <tr>\n",
       "      <th>2</th>\n",
       "      <td>62.0</td>\n",
       "      <td>Male</td>\n",
       "      <td>7.3</td>\n",
       "      <td>4.1</td>\n",
       "      <td>490.0</td>\n",
       "      <td>60.0</td>\n",
       "      <td>68.0</td>\n",
       "      <td>7.0</td>\n",
       "      <td>3.3</td>\n",
       "      <td>0.89</td>\n",
       "      <td>1</td>\n",
       "    </tr>\n",
       "    <tr>\n",
       "      <th>3</th>\n",
       "      <td>58.0</td>\n",
       "      <td>Male</td>\n",
       "      <td>1.0</td>\n",
       "      <td>0.4</td>\n",
       "      <td>182.0</td>\n",
       "      <td>14.0</td>\n",
       "      <td>20.0</td>\n",
       "      <td>6.8</td>\n",
       "      <td>3.4</td>\n",
       "      <td>1.00</td>\n",
       "      <td>1</td>\n",
       "    </tr>\n",
       "    <tr>\n",
       "      <th>4</th>\n",
       "      <td>72.0</td>\n",
       "      <td>Male</td>\n",
       "      <td>3.9</td>\n",
       "      <td>2.0</td>\n",
       "      <td>195.0</td>\n",
       "      <td>27.0</td>\n",
       "      <td>59.0</td>\n",
       "      <td>7.3</td>\n",
       "      <td>2.4</td>\n",
       "      <td>0.40</td>\n",
       "      <td>1</td>\n",
       "    </tr>\n",
       "    <tr>\n",
       "      <th>...</th>\n",
       "      <td>...</td>\n",
       "      <td>...</td>\n",
       "      <td>...</td>\n",
       "      <td>...</td>\n",
       "      <td>...</td>\n",
       "      <td>...</td>\n",
       "      <td>...</td>\n",
       "      <td>...</td>\n",
       "      <td>...</td>\n",
       "      <td>...</td>\n",
       "      <td>...</td>\n",
       "    </tr>\n",
       "    <tr>\n",
       "      <th>30686</th>\n",
       "      <td>50.0</td>\n",
       "      <td>Male</td>\n",
       "      <td>2.2</td>\n",
       "      <td>1.0</td>\n",
       "      <td>610.0</td>\n",
       "      <td>17.0</td>\n",
       "      <td>28.0</td>\n",
       "      <td>7.3</td>\n",
       "      <td>2.6</td>\n",
       "      <td>0.55</td>\n",
       "      <td>1</td>\n",
       "    </tr>\n",
       "    <tr>\n",
       "      <th>30687</th>\n",
       "      <td>55.0</td>\n",
       "      <td>Male</td>\n",
       "      <td>2.9</td>\n",
       "      <td>1.3</td>\n",
       "      <td>482.0</td>\n",
       "      <td>22.0</td>\n",
       "      <td>34.0</td>\n",
       "      <td>7.0</td>\n",
       "      <td>2.4</td>\n",
       "      <td>0.50</td>\n",
       "      <td>1</td>\n",
       "    </tr>\n",
       "    <tr>\n",
       "      <th>30688</th>\n",
       "      <td>54.0</td>\n",
       "      <td>Male</td>\n",
       "      <td>6.8</td>\n",
       "      <td>3.0</td>\n",
       "      <td>542.0</td>\n",
       "      <td>116.0</td>\n",
       "      <td>66.0</td>\n",
       "      <td>6.4</td>\n",
       "      <td>3.1</td>\n",
       "      <td>0.90</td>\n",
       "      <td>1</td>\n",
       "    </tr>\n",
       "    <tr>\n",
       "      <th>30689</th>\n",
       "      <td>48.0</td>\n",
       "      <td>Female</td>\n",
       "      <td>1.9</td>\n",
       "      <td>1.0</td>\n",
       "      <td>231.0</td>\n",
       "      <td>16.0</td>\n",
       "      <td>55.0</td>\n",
       "      <td>4.3</td>\n",
       "      <td>1.6</td>\n",
       "      <td>0.60</td>\n",
       "      <td>1</td>\n",
       "    </tr>\n",
       "    <tr>\n",
       "      <th>30690</th>\n",
       "      <td>30.0</td>\n",
       "      <td>Male</td>\n",
       "      <td>3.1</td>\n",
       "      <td>1.6</td>\n",
       "      <td>253.0</td>\n",
       "      <td>80.0</td>\n",
       "      <td>406.0</td>\n",
       "      <td>6.8</td>\n",
       "      <td>3.9</td>\n",
       "      <td>1.30</td>\n",
       "      <td>1</td>\n",
       "    </tr>\n",
       "  </tbody>\n",
       "</table>\n",
       "<p>30691 rows × 11 columns</p>\n",
       "</div>"
      ],
      "text/plain": [
       "        age  gender    tb   db    aap   sgpt   sgot   tp  alb  a/g_ratio  \\\n",
       "0      65.0  Female   0.7  0.1  187.0   16.0   18.0  6.8  3.3       0.90   \n",
       "1      62.0    Male  10.9  5.5  699.0   64.0  100.0  7.5  3.2       0.74   \n",
       "2      62.0    Male   7.3  4.1  490.0   60.0   68.0  7.0  3.3       0.89   \n",
       "3      58.0    Male   1.0  0.4  182.0   14.0   20.0  6.8  3.4       1.00   \n",
       "4      72.0    Male   3.9  2.0  195.0   27.0   59.0  7.3  2.4       0.40   \n",
       "...     ...     ...   ...  ...    ...    ...    ...  ...  ...        ...   \n",
       "30686  50.0    Male   2.2  1.0  610.0   17.0   28.0  7.3  2.6       0.55   \n",
       "30687  55.0    Male   2.9  1.3  482.0   22.0   34.0  7.0  2.4       0.50   \n",
       "30688  54.0    Male   6.8  3.0  542.0  116.0   66.0  6.4  3.1       0.90   \n",
       "30689  48.0  Female   1.9  1.0  231.0   16.0   55.0  4.3  1.6       0.60   \n",
       "30690  30.0    Male   3.1  1.6  253.0   80.0  406.0  6.8  3.9       1.30   \n",
       "\n",
       "       result  \n",
       "0           1  \n",
       "1           1  \n",
       "2           1  \n",
       "3           1  \n",
       "4           1  \n",
       "...       ...  \n",
       "30686       1  \n",
       "30687       1  \n",
       "30688       1  \n",
       "30689       1  \n",
       "30690       1  \n",
       "\n",
       "[30691 rows x 11 columns]"
      ]
     },
     "execution_count": 6,
     "metadata": {},
     "output_type": "execute_result"
    }
   ],
   "source": [
    "xf"
   ]
  },
  {
   "cell_type": "code",
   "execution_count": 7,
   "metadata": {},
   "outputs": [
    {
     "name": "stdout",
     "output_type": "stream",
     "text": [
      "<class 'pandas.core.frame.DataFrame'>\n",
      "RangeIndex: 30691 entries, 0 to 30690\n",
      "Data columns (total 11 columns):\n",
      " #   Column     Non-Null Count  Dtype  \n",
      "---  ------     --------------  -----  \n",
      " 0   age        30689 non-null  float64\n",
      " 1   gender     29789 non-null  object \n",
      " 2   tb         30043 non-null  float64\n",
      " 3   db         30130 non-null  float64\n",
      " 4   aap        29895 non-null  float64\n",
      " 5   sgpt       30153 non-null  float64\n",
      " 6   sgot       30229 non-null  float64\n",
      " 7   tp         30228 non-null  float64\n",
      " 8   alb        30197 non-null  float64\n",
      " 9   a/g_ratio  30132 non-null  float64\n",
      " 10  result     30691 non-null  int64  \n",
      "dtypes: float64(9), int64(1), object(1)\n",
      "memory usage: 2.6+ MB\n"
     ]
    }
   ],
   "source": [
    "xf.info()"
   ]
  },
  {
   "cell_type": "code",
   "execution_count": 8,
   "metadata": {},
   "outputs": [
    {
     "data": {
      "text/plain": [
       "age            2\n",
       "gender       902\n",
       "tb           648\n",
       "db           561\n",
       "aap          796\n",
       "sgpt         538\n",
       "sgot         462\n",
       "tp           463\n",
       "alb          494\n",
       "a/g_ratio    559\n",
       "result         0\n",
       "dtype: int64"
      ]
     },
     "execution_count": 8,
     "metadata": {},
     "output_type": "execute_result"
    }
   ],
   "source": [
    "xf.isnull().sum()"
   ]
  },
  {
   "attachments": {},
   "cell_type": "markdown",
   "metadata": {},
   "source": [
    "# numaric "
   ]
  },
  {
   "cell_type": "code",
   "execution_count": 9,
   "metadata": {},
   "outputs": [
    {
     "name": "stdout",
     "output_type": "stream",
     "text": [
      "Average age : 44.0\n"
     ]
    }
   ],
   "source": [
    "avg_age=round(xf['age'].mean())\n",
    "print(f'Average age : {avg_age:.1f}')"
   ]
  },
  {
   "cell_type": "code",
   "execution_count": 10,
   "metadata": {},
   "outputs": [],
   "source": [
    "xf['age'].fillna(avg_age,inplace=True) #fillna fill the null values in colum"
   ]
  },
  {
   "cell_type": "code",
   "execution_count": 11,
   "metadata": {},
   "outputs": [
    {
     "data": {
      "text/plain": [
       "age            0\n",
       "gender       902\n",
       "tb           648\n",
       "db           561\n",
       "aap          796\n",
       "sgpt         538\n",
       "sgot         462\n",
       "tp           463\n",
       "alb          494\n",
       "a/g_ratio    559\n",
       "result         0\n",
       "dtype: int64"
      ]
     },
     "execution_count": 11,
     "metadata": {},
     "output_type": "execute_result"
    }
   ],
   "source": [
    "xf.isnull().sum()"
   ]
  },
  {
   "cell_type": "code",
   "execution_count": 12,
   "metadata": {},
   "outputs": [],
   "source": [
    "# only numarical colums from xf\n",
    "numaric=xf.select_dtypes(include=np.number)"
   ]
  },
  {
   "cell_type": "code",
   "execution_count": 13,
   "metadata": {},
   "outputs": [
    {
     "data": {
      "text/html": [
       "<div>\n",
       "<style scoped>\n",
       "    .dataframe tbody tr th:only-of-type {\n",
       "        vertical-align: middle;\n",
       "    }\n",
       "\n",
       "    .dataframe tbody tr th {\n",
       "        vertical-align: top;\n",
       "    }\n",
       "\n",
       "    .dataframe thead th {\n",
       "        text-align: right;\n",
       "    }\n",
       "</style>\n",
       "<table border=\"1\" class=\"dataframe\">\n",
       "  <thead>\n",
       "    <tr style=\"text-align: right;\">\n",
       "      <th></th>\n",
       "      <th>age</th>\n",
       "      <th>tb</th>\n",
       "      <th>db</th>\n",
       "      <th>aap</th>\n",
       "      <th>sgpt</th>\n",
       "      <th>sgot</th>\n",
       "      <th>tp</th>\n",
       "      <th>alb</th>\n",
       "      <th>a/g_ratio</th>\n",
       "      <th>result</th>\n",
       "    </tr>\n",
       "  </thead>\n",
       "  <tbody>\n",
       "    <tr>\n",
       "      <th>0</th>\n",
       "      <td>65.0</td>\n",
       "      <td>0.7</td>\n",
       "      <td>0.1</td>\n",
       "      <td>187.0</td>\n",
       "      <td>16.0</td>\n",
       "      <td>18.0</td>\n",
       "      <td>6.8</td>\n",
       "      <td>3.3</td>\n",
       "      <td>0.90</td>\n",
       "      <td>1</td>\n",
       "    </tr>\n",
       "    <tr>\n",
       "      <th>1</th>\n",
       "      <td>62.0</td>\n",
       "      <td>10.9</td>\n",
       "      <td>5.5</td>\n",
       "      <td>699.0</td>\n",
       "      <td>64.0</td>\n",
       "      <td>100.0</td>\n",
       "      <td>7.5</td>\n",
       "      <td>3.2</td>\n",
       "      <td>0.74</td>\n",
       "      <td>1</td>\n",
       "    </tr>\n",
       "    <tr>\n",
       "      <th>2</th>\n",
       "      <td>62.0</td>\n",
       "      <td>7.3</td>\n",
       "      <td>4.1</td>\n",
       "      <td>490.0</td>\n",
       "      <td>60.0</td>\n",
       "      <td>68.0</td>\n",
       "      <td>7.0</td>\n",
       "      <td>3.3</td>\n",
       "      <td>0.89</td>\n",
       "      <td>1</td>\n",
       "    </tr>\n",
       "    <tr>\n",
       "      <th>3</th>\n",
       "      <td>58.0</td>\n",
       "      <td>1.0</td>\n",
       "      <td>0.4</td>\n",
       "      <td>182.0</td>\n",
       "      <td>14.0</td>\n",
       "      <td>20.0</td>\n",
       "      <td>6.8</td>\n",
       "      <td>3.4</td>\n",
       "      <td>1.00</td>\n",
       "      <td>1</td>\n",
       "    </tr>\n",
       "    <tr>\n",
       "      <th>4</th>\n",
       "      <td>72.0</td>\n",
       "      <td>3.9</td>\n",
       "      <td>2.0</td>\n",
       "      <td>195.0</td>\n",
       "      <td>27.0</td>\n",
       "      <td>59.0</td>\n",
       "      <td>7.3</td>\n",
       "      <td>2.4</td>\n",
       "      <td>0.40</td>\n",
       "      <td>1</td>\n",
       "    </tr>\n",
       "    <tr>\n",
       "      <th>...</th>\n",
       "      <td>...</td>\n",
       "      <td>...</td>\n",
       "      <td>...</td>\n",
       "      <td>...</td>\n",
       "      <td>...</td>\n",
       "      <td>...</td>\n",
       "      <td>...</td>\n",
       "      <td>...</td>\n",
       "      <td>...</td>\n",
       "      <td>...</td>\n",
       "    </tr>\n",
       "    <tr>\n",
       "      <th>30686</th>\n",
       "      <td>50.0</td>\n",
       "      <td>2.2</td>\n",
       "      <td>1.0</td>\n",
       "      <td>610.0</td>\n",
       "      <td>17.0</td>\n",
       "      <td>28.0</td>\n",
       "      <td>7.3</td>\n",
       "      <td>2.6</td>\n",
       "      <td>0.55</td>\n",
       "      <td>1</td>\n",
       "    </tr>\n",
       "    <tr>\n",
       "      <th>30687</th>\n",
       "      <td>55.0</td>\n",
       "      <td>2.9</td>\n",
       "      <td>1.3</td>\n",
       "      <td>482.0</td>\n",
       "      <td>22.0</td>\n",
       "      <td>34.0</td>\n",
       "      <td>7.0</td>\n",
       "      <td>2.4</td>\n",
       "      <td>0.50</td>\n",
       "      <td>1</td>\n",
       "    </tr>\n",
       "    <tr>\n",
       "      <th>30688</th>\n",
       "      <td>54.0</td>\n",
       "      <td>6.8</td>\n",
       "      <td>3.0</td>\n",
       "      <td>542.0</td>\n",
       "      <td>116.0</td>\n",
       "      <td>66.0</td>\n",
       "      <td>6.4</td>\n",
       "      <td>3.1</td>\n",
       "      <td>0.90</td>\n",
       "      <td>1</td>\n",
       "    </tr>\n",
       "    <tr>\n",
       "      <th>30689</th>\n",
       "      <td>48.0</td>\n",
       "      <td>1.9</td>\n",
       "      <td>1.0</td>\n",
       "      <td>231.0</td>\n",
       "      <td>16.0</td>\n",
       "      <td>55.0</td>\n",
       "      <td>4.3</td>\n",
       "      <td>1.6</td>\n",
       "      <td>0.60</td>\n",
       "      <td>1</td>\n",
       "    </tr>\n",
       "    <tr>\n",
       "      <th>30690</th>\n",
       "      <td>30.0</td>\n",
       "      <td>3.1</td>\n",
       "      <td>1.6</td>\n",
       "      <td>253.0</td>\n",
       "      <td>80.0</td>\n",
       "      <td>406.0</td>\n",
       "      <td>6.8</td>\n",
       "      <td>3.9</td>\n",
       "      <td>1.30</td>\n",
       "      <td>1</td>\n",
       "    </tr>\n",
       "  </tbody>\n",
       "</table>\n",
       "<p>30691 rows × 10 columns</p>\n",
       "</div>"
      ],
      "text/plain": [
       "        age    tb   db    aap   sgpt   sgot   tp  alb  a/g_ratio  result\n",
       "0      65.0   0.7  0.1  187.0   16.0   18.0  6.8  3.3       0.90       1\n",
       "1      62.0  10.9  5.5  699.0   64.0  100.0  7.5  3.2       0.74       1\n",
       "2      62.0   7.3  4.1  490.0   60.0   68.0  7.0  3.3       0.89       1\n",
       "3      58.0   1.0  0.4  182.0   14.0   20.0  6.8  3.4       1.00       1\n",
       "4      72.0   3.9  2.0  195.0   27.0   59.0  7.3  2.4       0.40       1\n",
       "...     ...   ...  ...    ...    ...    ...  ...  ...        ...     ...\n",
       "30686  50.0   2.2  1.0  610.0   17.0   28.0  7.3  2.6       0.55       1\n",
       "30687  55.0   2.9  1.3  482.0   22.0   34.0  7.0  2.4       0.50       1\n",
       "30688  54.0   6.8  3.0  542.0  116.0   66.0  6.4  3.1       0.90       1\n",
       "30689  48.0   1.9  1.0  231.0   16.0   55.0  4.3  1.6       0.60       1\n",
       "30690  30.0   3.1  1.6  253.0   80.0  406.0  6.8  3.9       1.30       1\n",
       "\n",
       "[30691 rows x 10 columns]"
      ]
     },
     "execution_count": 13,
     "metadata": {},
     "output_type": "execute_result"
    }
   ],
   "source": [
    "numaric"
   ]
  },
  {
   "cell_type": "code",
   "execution_count": 14,
   "metadata": {},
   "outputs": [
    {
     "data": {
      "text/plain": [
       "age            0\n",
       "tb           648\n",
       "db           561\n",
       "aap          796\n",
       "sgpt         538\n",
       "sgot         462\n",
       "tp           463\n",
       "alb          494\n",
       "a/g_ratio    559\n",
       "result         0\n",
       "dtype: int64"
      ]
     },
     "execution_count": 14,
     "metadata": {},
     "output_type": "execute_result"
    }
   ],
   "source": [
    "numaric.isnull().sum()"
   ]
  },
  {
   "cell_type": "code",
   "execution_count": 15,
   "metadata": {},
   "outputs": [],
   "source": [
    "avg_tb=round(xf['tb'].mean())\n",
    "avg_db=round(xf['db'].mean())\n",
    "avg_aap=round(xf['aap'].mean())\n",
    "avg_sgpt=round(xf['sgpt'].mean())\n",
    "avg_sgot=round(xf['sgot'].mean())\n",
    "avg_tp=round(xf['tp'].mean())\n",
    "avg_alb=round(xf['alb'].mean())\n",
    "avg_ag_ratio=round(xf['a/g_ratio'].mean())\n"
   ]
  },
  {
   "cell_type": "code",
   "execution_count": 16,
   "metadata": {},
   "outputs": [],
   "source": [
    "xf['tb'].fillna(avg_tb,inplace=True)\n",
    "xf['db'].fillna(avg_db,inplace=True)\n",
    "xf['aap'].fillna(avg_aap,inplace=True)\n",
    "xf['sgpt'].fillna(avg_sgpt,inplace=True)\n",
    "xf['sgot'].fillna(avg_sgot,inplace=True)\n",
    "xf['tp'].fillna(avg_tb,inplace=True)\n",
    "xf['alb'].fillna(avg_alb,inplace=True)\n",
    "xf['a/g_ratio'].fillna(avg_ag_ratio,inplace=True)\n"
   ]
  },
  {
   "cell_type": "code",
   "execution_count": 18,
   "metadata": {},
   "outputs": [
    {
     "data": {
      "text/plain": [
       "age            0\n",
       "gender       902\n",
       "tb             0\n",
       "db             0\n",
       "aap            0\n",
       "sgpt           0\n",
       "sgot           0\n",
       "tp             0\n",
       "alb            0\n",
       "a/g_ratio      0\n",
       "result         0\n",
       "dtype: int64"
      ]
     },
     "execution_count": 18,
     "metadata": {},
     "output_type": "execute_result"
    }
   ],
   "source": [
    "xf.isnull().sum()"
   ]
  },
  {
   "attachments": {},
   "cell_type": "markdown",
   "metadata": {},
   "source": [
    "# categorical"
   ]
  },
  {
   "cell_type": "code",
   "execution_count": 21,
   "metadata": {},
   "outputs": [],
   "source": [
    "most_gender=xf['gender'].value_counts().idxmax()\n",
    "xf['gender'].fillna(most_gender,inplace=True)"
   ]
  },
  {
   "cell_type": "code",
   "execution_count": 22,
   "metadata": {},
   "outputs": [
    {
     "data": {
      "text/plain": [
       "age          0\n",
       "gender       0\n",
       "tb           0\n",
       "db           0\n",
       "aap          0\n",
       "sgpt         0\n",
       "sgot         0\n",
       "tp           0\n",
       "alb          0\n",
       "a/g_ratio    0\n",
       "result       0\n",
       "dtype: int64"
      ]
     },
     "execution_count": 22,
     "metadata": {},
     "output_type": "execute_result"
    }
   ],
   "source": [
    "xf.isnull().sum()"
   ]
  },
  {
   "cell_type": "code",
   "execution_count": 23,
   "metadata": {},
   "outputs": [
    {
     "name": "stdout",
     "output_type": "stream",
     "text": [
      "<class 'pandas.core.frame.DataFrame'>\n",
      "RangeIndex: 30691 entries, 0 to 30690\n",
      "Data columns (total 11 columns):\n",
      " #   Column     Non-Null Count  Dtype  \n",
      "---  ------     --------------  -----  \n",
      " 0   age        30691 non-null  float64\n",
      " 1   gender     30691 non-null  object \n",
      " 2   tb         30691 non-null  float64\n",
      " 3   db         30691 non-null  float64\n",
      " 4   aap        30691 non-null  float64\n",
      " 5   sgpt       30691 non-null  float64\n",
      " 6   sgot       30691 non-null  float64\n",
      " 7   tp         30691 non-null  float64\n",
      " 8   alb        30691 non-null  float64\n",
      " 9   a/g_ratio  30691 non-null  float64\n",
      " 10  result     30691 non-null  int64  \n",
      "dtypes: float64(9), int64(1), object(1)\n",
      "memory usage: 2.6+ MB\n"
     ]
    }
   ],
   "source": [
    "xf.info()"
   ]
  },
  {
   "cell_type": "code",
   "execution_count": 24,
   "metadata": {},
   "outputs": [],
   "source": [
    "x=pd.DataFrame(xf).dropna(how='all')\n",
    "\n",
    "x.to_csv('lpd_final.csv',index=False)"
   ]
  },
  {
   "cell_type": "code",
   "execution_count": null,
   "metadata": {},
   "outputs": [],
   "source": []
  }
 ],
 "metadata": {
  "kernelspec": {
   "display_name": "base",
   "language": "python",
   "name": "python3"
  },
  "language_info": {
   "codemirror_mode": {
    "name": "ipython",
    "version": 3
   },
   "file_extension": ".py",
   "mimetype": "text/x-python",
   "name": "python",
   "nbconvert_exporter": "python",
   "pygments_lexer": "ipython3",
   "version": "3.10.8"
  },
  "orig_nbformat": 4
 },
 "nbformat": 4,
 "nbformat_minor": 2
}
